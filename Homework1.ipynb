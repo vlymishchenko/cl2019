{
  "nbformat": 4,
  "nbformat_minor": 0,
  "metadata": {
    "colab": {
      "name": "Homework1.ipynb",
      "provenance": [],
      "collapsed_sections": [],
      "include_colab_link": true
    },
    "kernelspec": {
      "name": "python3",
      "display_name": "Python 3"
    }
  },
  "cells": [
    {
      "cell_type": "markdown",
      "metadata": {
        "id": "view-in-github",
        "colab_type": "text"
      },
      "source": [
        "<a href=\"https://colab.research.google.com/github/vlymishchenko/cl2019/blob/master/Homework1.ipynb\" target=\"_parent\"><img src=\"https://colab.research.google.com/assets/colab-badge.svg\" alt=\"Open In Colab\"/></a>"
      ]
    },
    {
      "cell_type": "code",
      "metadata": {
        "id": "tLD8RQbTL80p",
        "colab_type": "code",
        "colab": {
          "base_uri": "https://localhost:8080/",
          "height": 85
        },
        "outputId": "aedeefc5-c8b4-4ffc-f837-7a7a3d9a77db"
      },
      "source": [
        "# задание 1\n",
        "a = 23\n",
        "b = 34.02\n",
        "c = \"python is cool\"\n",
        "d = \"you are cool, too\"\n",
        "print (type(a))\n",
        "print (type(b))\n",
        "print (type(c))\n",
        "print (type(d))\n",
        "# Для начала необходимо выяснить, какие из переменных являются строками. Для этого воспользуемся функцией \"type\"\n"
      ],
      "execution_count": 35,
      "outputs": [
        {
          "output_type": "stream",
          "text": [
            "<class 'int'>\n",
            "<class 'float'>\n",
            "<class 'str'>\n",
            "<class 'str'>\n"
          ],
          "name": "stdout"
        }
      ]
    },
    {
      "cell_type": "code",
      "metadata": {
        "id": "XqOYBdWRNb14",
        "colab_type": "code",
        "colab": {
          "base_uri": "https://localhost:8080/",
          "height": 176
        },
        "outputId": "9f8127a1-7526-41c0-ee8d-21a8963daa90"
      },
      "source": [
        "# Оказалось, что строки у нас две: c и d. Контактенирование возможно только если обе переменных являются str. Следовательно, контактенируем c + d.\n",
        "print(c+d)\n",
        "print(a*c)\n",
        "print(a*d)\n",
        "# Умножение возможно между переменными str и int. Int у нас только один - это a, поэтому мы имеем два возможных варианта: a*c и a*d. \n",
        "# Умножение на float возможно, только если мы преобразуем float в int:\n",
        "print((int(b))*c)\n",
        "print((int(b))*d)\n",
        "# Вычитание для переменных str невозможно, эта операция могла бы быть применена к переменным a и b, но задание звучало именно для строк :). \n",
        "# Выглядело бы это так:\n",
        "print(a-b)\n",
        "print(b-a)"
      ],
      "execution_count": 38,
      "outputs": [
        {
          "output_type": "stream",
          "text": [
            "python is coolyou are cool, too\n",
            "python is coolpython is coolpython is coolpython is coolpython is coolpython is coolpython is coolpython is coolpython is coolpython is coolpython is coolpython is coolpython is coolpython is coolpython is coolpython is coolpython is coolpython is coolpython is coolpython is coolpython is coolpython is coolpython is cool\n",
            "you are cool, tooyou are cool, tooyou are cool, tooyou are cool, tooyou are cool, tooyou are cool, tooyou are cool, tooyou are cool, tooyou are cool, tooyou are cool, tooyou are cool, tooyou are cool, tooyou are cool, tooyou are cool, tooyou are cool, tooyou are cool, tooyou are cool, tooyou are cool, tooyou are cool, tooyou are cool, tooyou are cool, tooyou are cool, tooyou are cool, too\n",
            "python is coolpython is coolpython is coolpython is coolpython is coolpython is coolpython is coolpython is coolpython is coolpython is coolpython is coolpython is coolpython is coolpython is coolpython is coolpython is coolpython is coolpython is coolpython is coolpython is coolpython is coolpython is coolpython is coolpython is coolpython is coolpython is coolpython is coolpython is coolpython is coolpython is coolpython is coolpython is coolpython is coolpython is cool\n",
            "you are cool, tooyou are cool, tooyou are cool, tooyou are cool, tooyou are cool, tooyou are cool, tooyou are cool, tooyou are cool, tooyou are cool, tooyou are cool, tooyou are cool, tooyou are cool, tooyou are cool, tooyou are cool, tooyou are cool, tooyou are cool, tooyou are cool, tooyou are cool, tooyou are cool, tooyou are cool, tooyou are cool, tooyou are cool, tooyou are cool, tooyou are cool, tooyou are cool, tooyou are cool, tooyou are cool, tooyou are cool, tooyou are cool, tooyou are cool, tooyou are cool, tooyou are cool, tooyou are cool, tooyou are cool, too\n",
            "-11.020000000000003\n",
            "11.020000000000003\n"
          ],
          "name": "stdout"
        }
      ]
    },
    {
      "cell_type": "code",
      "metadata": {
        "colab_type": "code",
        "outputId": "8d06ead4-0f0d-4dad-de76-0f09edede38e",
        "id": "kn8mTGZyVVeT",
        "colab": {
          "base_uri": "https://localhost:8080/",
          "height": 102
        },
        "cellView": "code"
      },
      "source": [
        "# задание 2\n",
        "# вариант 1\n",
        "a = \"строка\"\n",
        "b = \"строка\"\n",
        "c = \"строка\"\n",
        "d = a+b+c\n",
        "print(d)\n",
        "\n",
        "# вариант 2\n",
        "a = \"строка\"\n",
        "b = a*3\n",
        "print(b)\n",
        "\n",
        "# вариант 3\n",
        "a = \"строка\"\n",
        "b = a[:]+a[:]+a[:]\n",
        "print(b)\n",
        "\n",
        "# задание 3\n",
        "a = \"апельсин\"\n",
        "b = a[-3] + a[1] + a[0] + a[-1] + a[-2] + a[2:5]\n",
        "print(a)\n",
        "print(b)"
      ],
      "execution_count": 4,
      "outputs": [
        {
          "output_type": "stream",
          "text": [
            "строкастрокастрока\n",
            "строкастрокастрока\n",
            "строкастрокастрока\n",
            "апельсин\n",
            "спаниель\n"
          ],
          "name": "stdout"
        }
      ]
    },
    {
      "cell_type": "code",
      "metadata": {
        "id": "a5GPSMSyVaWF",
        "colab_type": "code",
        "colab": {
          "base_uri": "https://localhost:8080/",
          "height": 68
        },
        "outputId": "7682d5bf-cef4-4c27-9017-e443b6049de4"
      },
      "source": [
        "# задание 4\n",
        "text = \"WOW,NOEL SEES LEON\"\n",
        "text1 = (text.lower())\n",
        "text2 = text1[::-1] \n",
        "print(text)\n",
        "print(text1)\n",
        "print(text2)"
      ],
      "execution_count": 32,
      "outputs": [
        {
          "output_type": "stream",
          "text": [
            "WOW,NOEL SEES LEON\n",
            "wow,noel sees leon\n",
            "noel sees leon,wow\n"
          ],
          "name": "stdout"
        }
      ]
    }
  ]
}
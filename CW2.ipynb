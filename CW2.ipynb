{
  "nbformat": 4,
  "nbformat_minor": 0,
  "metadata": {
    "colab": {
      "name": "CW2.ipynb",
      "provenance": [],
      "collapsed_sections": [],
      "include_colab_link": true
    },
    "kernelspec": {
      "name": "python3",
      "display_name": "Python 3"
    }
  },
  "cells": [
    {
      "cell_type": "markdown",
      "metadata": {
        "id": "view-in-github",
        "colab_type": "text"
      },
      "source": [
        "<a href=\"https://colab.research.google.com/github/vlymishchenko/cl2019/blob/master/CW2.ipynb\" target=\"_parent\"><img src=\"https://colab.research.google.com/assets/colab-badge.svg\" alt=\"Open In Colab\"/></a>"
      ]
    },
    {
      "cell_type": "code",
      "metadata": {
        "id": "SGx9z5YoGSSU",
        "colab_type": "code",
        "colab": {
          "base_uri": "https://localhost:8080/",
          "height": 34
        },
        "outputId": "f406f692-365f-4e03-afe1-289187e19d38"
      },
      "source": [
        "import random\n",
        "\n",
        "names = [\"пром\",\"агро\",\"торг\",\"урал\",\"север\",\"юг\",\"техно\",\n",
        "\"экспо\",\"метал\",\"нефть\",\"сельхоз\",\"фарм\",\"строй\",\n",
        "\"кредит\",\"алмаз\",\"-девелопмент\",\"развитие\",\"мос\",\n",
        "\"рос\",\"кубань\",\"сибирь\",\"восток\",\"нано\",\"софт\",\n",
        "\"микро\",\"онлайн\",\"инвест\",\"текстиль\",\"цемент\"]\n",
        "company = '' \n",
        "\n",
        "for x in range(6): \n",
        "    company = company + random.choice(names)\n",
        "\n",
        "print(company)\n",
        "\n",
        "def dict(**kwargs):\n",
        "     return kwargs\n"
      ],
      "execution_count": 10,
      "outputs": [
        {
          "output_type": "stream",
          "text": [
            "росонлайнкубаньмикрофармразвитие\n"
          ],
          "name": "stdout"
        }
      ]
    },
    {
      "cell_type": "code",
      "metadata": {
        "id": "Fpve7Cd7nd8P",
        "colab_type": "code",
        "colab": {
          "base_uri": "https://localhost:8080/",
          "height": 51
        },
        "outputId": "d59b323c-75e9-4521-c7f7-07867f6415bd"
      },
      "source": [
        "dic = {'ь':'', 'ъ':'', 'а':'a', 'б':'b','в':'v',\n",
        "       'г':'g', 'д':'d', 'е':'e', 'ё':'yo','ж':'zh',\n",
        "       'з':'z', 'и':'i', 'й':'y', 'к':'k', 'л':'l',\n",
        "       'м':'m', 'н':'n', 'о':'o', 'п':'p', 'р':'r', \n",
        "       'с':'s', 'т':'t', 'у':'u', 'ф':'f', 'х':'h',\n",
        "       'ц':'ts', 'ч':'ch', 'ш':'sh', 'щ':'sch', 'ы':'yi',\n",
        "       'э':'e', 'ю':'yu', 'я':'ya'}\n",
        " \n",
        "def tr(x):\n",
        "    t = ''\n",
        "    for i in x:\n",
        "        t+=dic.get(i.lower(), i.lower()).upper() if i.isupper() else dic.get(i, i)\n",
        "    return t\n",
        "text = 'Пицца - итальянское национальное блюдо в виде круглой открытой дрожжевой лепёшки,\\\n",
        "        \\nпокрытой в классическом варианте томатным соусом и расплавленным сыром'\n",
        "print(tr(text)) \n",
        "    \n",
        "  \n",
        "  \n"
      ],
      "execution_count": 1,
      "outputs": [
        {
          "output_type": "stream",
          "text": [
            "Pitstsa - italyanskoe natsionalnoe blyudo v vide krugloy otkryitoy drozhzhevoy lepyoshki,        \n",
            "pokryitoy v klassicheskom variante tomatnyim sousom i rasplavlennyim syirom\n"
          ],
          "name": "stdout"
        }
      ]
    }
  ]
}
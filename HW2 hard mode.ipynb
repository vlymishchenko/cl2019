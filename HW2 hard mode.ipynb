{
  "nbformat": 4,
  "nbformat_minor": 0,
  "metadata": {
    "colab": {
      "name": "Untitled2.ipynb",
      "provenance": [],
      "include_colab_link": true
    },
    "kernelspec": {
      "name": "python3",
      "display_name": "Python 3"
    }
  },
  "cells": [
    {
      "cell_type": "markdown",
      "metadata": {
        "id": "view-in-github",
        "colab_type": "text"
      },
      "source": [
        "<a href=\"https://colab.research.google.com/github/vlymishchenko/cl2019/blob/master/HW2%20hard%20mode.ipynb\" target=\"_parent\"><img src=\"https://colab.research.google.com/assets/colab-badge.svg\" alt=\"Open In Colab\"/></a>"
      ]
    },
    {
      "cell_type": "code",
      "metadata": {
        "id": "WAIM3wwbow-C",
        "colab_type": "code",
        "colab": {
          "base_uri": "https://localhost:8080/",
          "height": 153
        },
        "outputId": "6f470aba-a34a-42bf-e4ed-b7e65639576f"
      },
      "source": [
        "#задание 1 hardmode\n",
        "numbers = [2,6,7,45,1,89,678,35]\n",
        "for i in numbers:\n",
        "  if i % 5 != 0:\n",
        "    print(i, '- это не делится на 5, продолжим поиск') \n",
        "  if i == 45:\n",
        "    continue  \n",
        "  if i % 5 == 0:\n",
        "    print(i, \"делится на 5\")  \n",
        "#задание 2 hardmode\n",
        "import random\n",
        "\n",
        "cocktails = [[\"мартини\",\"грейпфрутовый сок\",\"жасмин\",\"тоник\",\"лосось\"],\n",
        "               [\"клубника\",\"какао\",\"мята\",\"марсала\"],\n",
        "               [\"водка\",\"томатный сок\",\"лимонный сок\",\"вустерширский соус\",\"черный перец\",\"сельдерей\",\"лосось\"],\n",
        "               [\"джин\",\"вермут\",\"ликер мараскино\",\"апельсины\",\"коктейльная вишня\",\"лосось\"],\n",
        "               [\"ром\",\"авокадо\",\"сахарный сироп\",\"сливки\",\"лимонный сок\",\"лед\"],\n",
        "               [\"красный вермут\",\"тоник\",\"апельсины\",\"лосось\"],\n",
        "               [\"только чай\"]\n",
        "        ]\n",
        "drink = random.choice(cocktails)        \n",
        "for i in cocktails:\n",
        "  for k in i:\n",
        "    if k == \"лосось\":\n",
        "      i.remove('лосось')\n",
        "print(\"Сегодня в вашем коктейле будет:\", drink)  \n",
        "\n",
        "#задание 2 list comprehension \n",
        "import random\n",
        "\n",
        "cocktails = [[\"мартини\",\"грейпфрутовый сок\",\"жасмин\",\"тоник\",\"лосось\"],\n",
        "               [\"клубника\",\"какао\",\"мята\",\"марсала\"],\n",
        "               [\"водка\",\"томатный сок\",\"лимонный сок\",\"вустерширский соус\",\"черный перец\",\"сельдерей\",\"лосось\"],\n",
        "               [\"джин\",\"вермут\",\"ликер мараскино\",\"апельсины\",\"коктейльная вишня\",\"лосось\"],\n",
        "               [\"ром\",\"авокадо\",\"сахарный сироп\",\"сливки\",\"лимонный сок\",\"лед\"],\n",
        "               [\"красный вермут\",\"тоник\",\"апельсины\",\"лосось\"],\n",
        "               [\"только чай\"]\n",
        "        ]\n",
        "drink = random.choice(cocktails)        \n",
        "[i.remove('лосось') for i in cocktails for k in i if k == \"лосось\"]\n",
        "print(\"Сегодня в вашем коктейле будет:\", drink)  \n",
        "\n",
        "\n",
        "\n",
        "\n",
        "\n",
        "\n",
        "\n",
        "\n",
        "\n",
        "\n",
        " \n",
        "\n",
        "  \n",
        "\n"
      ],
      "execution_count": 49,
      "outputs": [
        {
          "output_type": "stream",
          "text": [
            "2 - это не делится на 5, продолжим поиск\n",
            "6 - это не делится на 5, продолжим поиск\n",
            "7 - это не делится на 5, продолжим поиск\n",
            "1 - это не делится на 5, продолжим поиск\n",
            "89 - это не делится на 5, продолжим поиск\n",
            "678 - это не делится на 5, продолжим поиск\n",
            "35 делится на 5\n",
            "Сегодня в вашем коктейле будет: ['водка', 'томатный сок', 'лимонный сок', 'вустерширский соус', 'черный перец', 'сельдерей']\n"
          ],
          "name": "stdout"
        }
      ]
    },
    {
      "cell_type": "code",
      "metadata": {
        "colab_type": "code",
        "id": "eVGFFrdvv1Ue",
        "colab": {}
      },
      "source": [
        "\n"
      ],
      "execution_count": 0,
      "outputs": []
    }
  ]
}
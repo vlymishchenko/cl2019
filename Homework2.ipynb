{
  "nbformat": 4,
  "nbformat_minor": 0,
  "metadata": {
    "colab": {
      "name": "Homework2.ipynb",
      "provenance": [],
      "collapsed_sections": [],
      "include_colab_link": true
    },
    "kernelspec": {
      "name": "python3",
      "display_name": "Python 3"
    }
  },
  "cells": [
    {
      "cell_type": "markdown",
      "metadata": {
        "id": "view-in-github",
        "colab_type": "text"
      },
      "source": [
        "<a href=\"https://colab.research.google.com/github/vlymishchenko/cl2019/blob/master/Homework2.ipynb\" target=\"_parent\"><img src=\"https://colab.research.google.com/assets/colab-badge.svg\" alt=\"Open In Colab\"/></a>"
      ]
    },
    {
      "cell_type": "code",
      "metadata": {
        "id": "1UrRVr3sjyr_",
        "colab_type": "code",
        "colab": {}
      },
      "source": [
        "# задание 1\n",
        "a = float(input('по шкале от 0 до 10, напишите, насколько Вы устали: '))\n",
        "if a < 0.7:\n",
        "    print('Кажется, Вы совсем не устали')\n",
        "elif 0.7 <= a <= 6.8:\n",
        "    print('Вы средненько устали')\n",
        "elif 6.9 <= a <= 10:\n",
        "    print('Вы очень устали! Скорее заварите чай с ромашкой и примите теплую ванну')\n",
        "elif a > 10:\n",
        "    print('Кажется, Вы так сильно устали, что не прочитали задание. Попробуйте еще раз')\n",
        "# задание 2\n",
        "i = 100\n",
        "while i >= 0:\n",
        "    print(i)\n",
        "    i = i - 10\n",
        "print('Готово!')\n",
        "# задание 3\n",
        "import random\n",
        "excuses = [\"я устал\",\"я улетел к океану\",\"на улице холодно\",\"на улице жарко\", \n",
        "           \"я в отпуске\",\"у меня день рождения\",\"сегодня выходной\",\"мне надоело\",\n",
        "           \"я работаю из дома\",\"могу\",\"плохо себя чувствую\",\"не хочу\", \"у меня лапки\",\"я в отпуске!\",\n",
        "           \"на улице ураган\"]\n",
        "reason = random.choice(excuses)           \n",
        "print('Сегодня я не иду на работу, потому что', reason)\n",
        "    "
      ],
      "execution_count": 0,
      "outputs": []
    }
  ]
}